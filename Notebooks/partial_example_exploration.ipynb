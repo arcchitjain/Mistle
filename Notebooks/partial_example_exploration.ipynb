{
 "cells": [
  {
   "cell_type": "code",
   "execution_count": 19,
   "metadata": {
    "collapsed": true,
    "pycharm": {
     "is_executing": false
    }
   },
   "outputs": [],
   "source": [
    "from mistle_v2 import get_dl, Mistle\n",
    "from time import time\n",
    "from data_generators import TheoryNoisyGeneratorOnDataset, GeneratedTheory\n",
    "import random\n",
    "import numpy as np"
   ]
  },
  {
   "cell_type": "code",
   "execution_count": 24,
   "outputs": [
    {
     "name": "stdout",
     "text": [
      "Length of freq items 1\t: 1947\n",
      "Time of freq items 1\t: 0.24102401733398438\n",
      "2808 Frequent Itemsets are mined in 0.024965524673461914 seconds.\n",
      "Length of freq items 2\t: 2808\n",
      "Time of freq items 2\t: 0.024965524673461914\n",
      "93  violations of positive partial assignments found for the learned theory.\n",
      "DL of initial theory\t: 2739\n",
      "1626\tfrequent itemsets left after applying R operator with output \t: [frozenset({2, 4, 5})]\n",
      "1374\tfrequent itemsets left after applying T operator with output \t: [frozenset({1, 3, -4})]\n",
      "1079\tfrequent itemsets left after applying T operator with output \t: [frozenset({-8, -7, 6})]\n",
      "864\tfrequent itemsets left after applying T operator with output \t: [frozenset({2, -4, -3})]\n",
      "685\tfrequent itemsets left after applying T operator with output \t: [frozenset({8, 1, 6})]\n",
      "473\tfrequent itemsets left after applying W operator with output \t: [frozenset({-8, 9, -5}), frozenset({1, -9, -7, -6, -4, -3}), frozenset({1, 2, 6, -9, -4}), frozenset({-7, 2, 3, -9}), frozenset({1, -9, 7, -4, -3}), frozenset({1, 4, -9, -7, -3, -2}), frozenset({3, 6, -9, -1, -2}), frozenset({-7, -4, -3, -9}), frozenset({-9, -7, -6, -4, -3, -2}), frozenset({2, 3, 4, 6, -9, -1}), frozenset({-9, 7, -6, -4, -2}), frozenset({-2, -9, -7, -4, -1}), frozenset({2, -9, 6, 7, -3}), frozenset({-7, -6, -2, -9}), frozenset({3, 4, 6, -9, -2, -1}), frozenset({4, 6, -9, -3, -1}), frozenset({3, -1, 6, -9}), frozenset({1, -9, -7, -6, -4, -3, -2})]\n",
      "328\tfrequent itemsets left after applying T operator with output \t: [frozenset({-7, -4})]\n",
      "257\tfrequent itemsets left after applying W operator with output \t: [frozenset({2, 3, 6, 10, -1}), frozenset({8, 5, -10}), frozenset({5, -10, 7, 8, -4}), frozenset({-7, -4, -3, -10}), frozenset({-8, -4, -10})]\n",
      "206\tfrequent itemsets left after applying W operator with output \t: [frozenset({11, -4, 7}), frozenset({2, 3, 5, -11, 8, -6, -1}), frozenset({-8, 1, -11, 5}), frozenset({3, 6, -11, -2, -8, -7, -5, -1}), frozenset({-11, 2, 5, -1}), frozenset({3, -11, 6, -8, -2}), frozenset({3, -11, 6, 8, -5}), frozenset({2, 3, -11, 6, 8}), frozenset({2, 3, -11, 8, -5})]\n",
      "131\tfrequent itemsets left after applying W operator with output \t: [frozenset({8, -6, 12}), frozenset({-3, -12, -4, -2}), frozenset({1, 2, -12, -3}), frozenset({2, -12, 5, -7, -3, -1}), frozenset({3, 4, -12}), frozenset({1, 3, -12, 7, -5}), frozenset({1, -4, -12, 5}), frozenset({1, -12, -5, -4, -2}), frozenset({-12, -7, -5, -3, -2}), frozenset({2, -12, -3})]\n",
      "85\tfrequent itemsets left after applying T operator with output \t: [frozenset({2, -3})]\n",
      "17\tfrequent itemsets left after applying W operator with output \t: [frozenset({-8, 13, 5, 7}), frozenset({2, -13}), frozenset({3, 4, 6, -13}), frozenset({-6, -13, 4})]\n",
      "2\tfrequent itemsets left after applying T operator with output \t: [frozenset({1, 2})]\n",
      "Initial DL\t\t\t\t: 2959\n",
      "Final DL\t\t\t\t: 1184\n",
      "Compression (wrt sl)\t: 0.5998648191956742\n",
      "Operator Counters\t\t: {'W': 5, 'V': 0, 'S': 0, 'R': 1, 'T': 7}\n",
      "Total time\t\t\t\t: 0.4974534511566162 seconds.\n",
      "Final theory has 72 clauses.\n"
     ],
     "output_type": "stream"
    }
   ],
   "source": [
    "seed = 0\n",
    "random.seed(seed)\n",
    "np.random.seed(seed)\n",
    "\n",
    "start_time = time()\n",
    "\n",
    "th = GeneratedTheory([[1, -4], [2, 5], [6, -7, -8]])\n",
    "generator = TheoryNoisyGeneratorOnDataset(th, 200, 200, 0.2)\n",
    "positives, negatives = generator.generate_dataset(use_all_examples=True)\n",
    "\n",
    "\n",
    "mistle = Mistle(positives, negatives)\n",
    "theory, compression = mistle.learn(minsup=1, dl_measure=\"sl\")\n",
    "print(\"Total time\\t\\t\\t\\t: \" + str(time() - start_time) + \" seconds.\")\n",
    "if theory is not None:\n",
    "    print(\"Final theory has \" + str(len(theory.clauses)) + \" clauses.\")\n",
    "else:\n",
    "    print(\"Empty theory learned.\")\n",
    "    "
   ],
   "metadata": {
    "collapsed": false,
    "pycharm": {
     "name": "#%%\n",
     "is_executing": false
    }
   }
  },
  {
   "cell_type": "code",
   "execution_count": 25,
   "outputs": [
    {
     "name": "stdout",
     "text": [
      "[[5, 6, 7, 8, -3], [1, 4, 5, -8, -2], [4, 6, -2, -8, -3, -1], [8, -5, -4, -3, -2], [2, 3, 4, -7, -6, -1], [4, 5, 7, 8, -6, -3], [1, 5, -8, -7, -3, -2], [1, 5, 6, -8, -2], [1, 3, 5, 6, 8, -7], [2, 5, 7, -8, -6, -1], [4, 5, -7, -6, -3, -1], [1, 5, -8, -6, -3, -2], [-7, -6, 4, -3], [1, 5, -8, -3, -2], [1, 8, -6, -4, -2], [8, 1, 2, -5], [1, 2, 6, 8, -3], [6, -8, -7, -5, -4, -3, -2], [1, 3, 5, 6, -8, -7, -4, -2], [2, 4, 5], [-8, -7, 6], [2, -4, -3], [8, 1, 6], [-8, 9, -5], [1, -9, -7, -6, -4, -3], [1, 2, 6, -9, -4], [-7, 2, 3, -9], [1, -9, 7, -4, -3], [1, 4, -9, -7, -3, -2], [3, 6, -9, -1, -2], [-7, -4, -3, -9], [-9, -7, -6, -4, -3, -2], [2, 3, 4, 6, -9, -1], [-9, 7, -6, -4, -2], [-2, -9, -7, -4, -1], [2, -9, 6, 7, -3], [-7, -6, -2, -9], [3, 4, 6, -9, -2, -1], [4, 6, -9, -3, -1], [3, -1, 6, -9], [1, -9, -7, -6, -4, -3, -2], [-7, -4], [2, 3, 6, 10, -1], [8, 5, -10], [5, -10, 7, 8, -4], [-7, -4, -3, -10], [-8, -4, -10], [11, -4, 7], [2, 3, 5, -11, 8, -6, -1], [-8, 1, -11, 5], [3, 6, -11, -2, -8, -7, -5, -1], [-11, 2, 5, -1], [3, -11, 6, -8, -2], [3, -11, 6, 8, -5], [2, 3, -11, 6, 8], [2, 3, -11, 8, -5], [8, -6, 12], [-3, -12, -4, -2], [1, 2, -12, -3], [2, -12, 5, -7, -3, -1], [3, 4, -12], [1, 3, -12, 7, -5], [1, -4, -12, 5], [1, -12, -5, -4, -2], [-12, -7, -5, -3, -2], [2, -12, -3], [2, -3], [-8, 13, 5, 7], [2, -13], [3, 4, 6, -13], [-6, -13, 4], [1, 2]]\n"
     ],
     "output_type": "stream"
    }
   ],
   "source": [
    "print([list(c) for c in theory.clauses])\n"
   ],
   "metadata": {
    "collapsed": false,
    "pycharm": {
     "name": "#%%\n",
     "is_executing": false
    }
   }
  }
 ],
 "metadata": {
  "kernelspec": {
   "display_name": "Python 3",
   "language": "python",
   "name": "python3"
  },
  "language_info": {
   "codemirror_mode": {
    "name": "ipython",
    "version": 2
   },
   "file_extension": ".py",
   "mimetype": "text/x-python",
   "name": "python",
   "nbconvert_exporter": "python",
   "pygments_lexer": "ipython2",
   "version": "2.7.6"
  },
  "pycharm": {
   "stem_cell": {
    "cell_type": "raw",
    "source": [],
    "metadata": {
     "collapsed": false
    }
   }
  }
 },
 "nbformat": 4,
 "nbformat_minor": 0
}