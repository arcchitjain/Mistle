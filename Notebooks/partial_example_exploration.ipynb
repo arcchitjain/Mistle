{
 "cells": [
  {
   "cell_type": "code",
   "execution_count": 3,
   "metadata": {
    "collapsed": true,
    "pycharm": {
     "is_executing": false
    }
   },
   "outputs": [],
   "source": [
    "from mistle_v2 import get_dl, Mistle, Theory\n",
    "from time import time\n",
    "from data_generators import TheoryNoisyGeneratorOnDataset, GeneratedTheory\n",
    "import random\n",
    "import numpy as np\n",
    "import pycosat"
   ]
  },
  {
   "cell_type": "code",
   "execution_count": 13,
   "outputs": [
    {
     "name": "stdout",
     "text": [
      "Length of freq items 1\t: 29\n",
      "Time of freq items 1\t: 0.22682976722717285\n",
      "124 Frequent Itemsets are mined in 0.0010025501251220703 seconds.\n",
      "Length of freq items 2\t: 124\n",
      "Time of freq items 2\t: 0.001995086669921875\n",
      "DL of initial theory\t: 2047.7712614179425\n",
      "10\tfrequent itemsets left after applying S operator with output \t: [frozenset({1, -4})]\n",
      "4\tfrequent itemsets left after applying S operator with output \t: [frozenset({2, 3, 5})]\n",
      "1\tfrequent itemsets left after applying T operator with output \t: [frozenset({2, 5})]\n",
      "Length of freq items 1\t: 4\n",
      "Time of freq items 1\t: 0.24328207969665527\n",
      "19 Frequent Itemsets are mined in 0.0 seconds.\n",
      "Length of freq items 2\t: 19\n",
      "Time of freq items 2\t: 0.0\n",
      "0 clauses are pruned.\n",
      "Initial DL\t\t\t\t: 2571.6596837179623\n",
      "Final DL\t\t\t\t: 34.981428833018086\n",
      "Compression (wrt ce)\t: 0.9863973335762515\n",
      "Operator Counters\t\t: {'W': 0, 'V': 0, 'S': 2, 'R': 0, 'T': 1}\n",
      "Total time\t\t\t\t: 0.5060055255889893 seconds.\n",
      "Final theory has 3 clauses.\n"
     ],
     "output_type": "stream"
    }
   ],
   "source": [
    "seed = 0\n",
    "random.seed(seed)\n",
    "np.random.seed(seed)\n",
    "\n",
    "start_time = time()\n",
    "\n",
    "th = GeneratedTheory([[1, -4], [2, 5], [6, -7, -8]])\n",
    "generator = TheoryNoisyGeneratorOnDataset(th, 200, 0.7)\n",
    "positives, negatives = generator.generate_dataset()\n",
    "\n",
    "\n",
    "mistle = Mistle(positives, negatives)\n",
    "theory, compression = mistle.learn(minsup=1, dl_measure=\"ce\")\n",
    "print(\"Total time\\t\\t\\t\\t: \" + str(time() - start_time) + \" seconds.\")\n",
    "if theory is not None:\n",
    "    print(\"Final theory has \" + str(len(theory.clauses)) + \" clauses.\")\n",
    "else:\n",
    "    print(\"Empty theory learned.\")\n",
    "    "
   ],
   "metadata": {
    "collapsed": false,
    "pycharm": {
     "name": "#%%\n",
     "is_executing": false
    }
   }
  },
  {
   "cell_type": "code",
   "execution_count": 11,
   "outputs": [
    {
     "name": "stdout",
     "text": [
      "[[2, 5], [1, -4], [-8, -7, 6]]\n"
     ],
     "output_type": "stream"
    }
   ],
   "source": [
    "print([list(c) for c in theory.clauses])"
   ],
   "metadata": {
    "collapsed": false,
    "pycharm": {
     "name": "#%%\n",
     "is_executing": false
    }
   }
  },
  {
   "cell_type": "code",
   "execution_count": 5,
   "outputs": [
    {
     "name": "stdout",
     "text": [
      "{frozenset({1, -4}): 164, frozenset({2, 5}): 163, frozenset({-8, -7, 6}): 138, frozenset({5, 7, -8, -6, -4, -3, -1}): 123, frozenset({2, 6, -8, -5, -4, -1}): 124, frozenset({2, 3, 6, -7, -5, -4, -1}): 123}\n"
     ],
     "output_type": "stream"
    }
   ],
   "source": [
    "nb_models = {}\n",
    "clauses = [frozenset([1, -4]), frozenset([2, 5]), frozenset([6, -7, -8]),\n",
    "           frozenset([-1, -3, -4, 5, -6, 7, -8]),frozenset([-1, 2, -4, -5, 6, -8]),frozenset([-1, 2, 3, -4, -5, 6, -7])]\n",
    "#clauses = theory.unpack_theory()\n",
    "for c in clauses:\n",
    "    new_theory = list(clauses)\n",
    "    new_theory.remove(c)\n",
    "    nb_models[c] = len(list(pycosat.itersolve(new_theory)))\n",
    "\n",
    "nb_models_ref= len(list(pycosat.itersolve(clauses)))\n",
    "print(nb_models)"
   ],
   "metadata": {
    "collapsed": false,
    "pycharm": {
     "name": "#%%\n",
     "is_executing": false
    }
   }
  },
  {
   "cell_type": "code",
   "execution_count": 4,
   "outputs": [],
   "source": [
    "new_errors = {}\n",
    "new_errors_n = {}\n",
    "new_errors_total = {}\n",
    "clauses = [frozenset([1, -4]), frozenset([2, 5]), frozenset([6, -7, -8]),\n",
    "           frozenset([-1, -3, -4, 5, -6, 7, -8]),frozenset([-1, 2, -4, -5, 6, -8]),frozenset([-1, 2, 3, -4, -5, 6, -7])]\n",
    "#clauses = theory.unpack_theory()\n",
    "for c in clauses:\n",
    "    new_theory = list(clauses)\n",
    "    new_theory.remove(c)\n",
    "    m_theory = Theory(new_theory, None, None)\n",
    "    violations = m_theory.get_violations(m_theory.clauses, positives, print_violations=False)\n",
    "    violations_n = m_theory.get_violations(m_theory.clauses, negatives, print_violations=False, sign=\"-\")\n",
    "    new_errors[c] = violations\n",
    "    new_errors_n[c] = violations_n\n",
    "    new_errors_total[c] = violations.union(violations_n)\n",
    "\n",
    "ref_theory = Theory(clauses, None, None)\n",
    "ref_error = ref_theory.get_violations(ref_theory.clauses, positives, print_violations=False)\n",
    "ref_error_n = ref_theory.get_violations(ref_theory.clauses, negatives, print_violations=False, sign=\"-\")\n",
    "ref_error_total = ref_error.union(ref_error_n)"
   ],
   "metadata": {
    "collapsed": false,
    "pycharm": {
     "name": "#%%\n",
     "is_executing": false
    }
   }
  },
  {
   "cell_type": "code",
   "execution_count": 30,
   "outputs": [
    {
     "name": "stdout",
     "text": [
      "frozenset({1, -8, -7, -6, -5, -4, -3, -2})\n",
      "frozenset({1, -8, -7, -6, -5, -4, -3, -2})\n",
      "frozenset({-2, -8, -7, -6, -5, -4, -3, -1})\n",
      "frozenset({1, -8, -7, -6, -5, -4, -3, -2})\n",
      "frozenset({-2, -8, -7, -6, -5, -4, -3, -1})\n"
     ],
     "output_type": "stream"
    }
   ],
   "source": [
    "for n in negatives:\n",
    "    if frozenset([-7, -2, -8, -6, -5, -4, -3]) <= n:\n",
    "        print(n)\n"
   ],
   "metadata": {
    "collapsed": false,
    "pycharm": {
     "name": "#%%\n",
     "is_executing": false
    }
   }
  }
 ],
 "metadata": {
  "kernelspec": {
   "display_name": "Python 3",
   "language": "python",
   "name": "python3"
  },
  "language_info": {
   "codemirror_mode": {
    "name": "ipython",
    "version": 2
   },
   "file_extension": ".py",
   "mimetype": "text/x-python",
   "name": "python",
   "nbconvert_exporter": "python",
   "pygments_lexer": "ipython2",
   "version": "2.7.6"
  },
  "pycharm": {
   "stem_cell": {
    "cell_type": "raw",
    "source": [],
    "metadata": {
     "collapsed": false
    }
   }
  }
 },
 "nbformat": 4,
 "nbformat_minor": 0
}